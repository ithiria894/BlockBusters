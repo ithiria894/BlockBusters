{
 "cells": [
  {
   "cell_type": "code",
   "execution_count": 3,
   "metadata": {},
   "outputs": [],
   "source": [
    "import pyttsx3\n"
   ]
  },
  {
   "cell_type": "code",
   "execution_count": 4,
   "metadata": {},
   "outputs": [],
   "source": [
    "script_str = \"We're excited to introduce our Online Game Assets Custody and Trading Platform, which uses Web3 technology to revolutionize the way people trade in-game items. \\n\\nCurrent digital asset trading lacks reliable marketplaces, making it challenging to match buyers and sellers, leading to a high risk of scams.\\n\\nOur platform offers a safe, decentralized marketplace for trading digital assets using Web3 technology, lowering the risk of scams, using NFTs for unique in-game items, and providing a standard API for easy connection with partners. Our platform is scalable, with strong security features.\\n\\nOur platform offers unique solutions, such as users earning experience points, blockchain-based lending, machine learning-based pricing, a social component, exclusive in-game assets, and incentivized asset creation. By offering these features, we create an engaging and enjoyable experience for users, while also increasing liquidity on the platform.\\n\\nOur platform is built on a strong design using smart contracts, Ethereum blockchain, and Infura. We have implemented strong security features to ensure that users' digital assets are kept safe. Our platform also features a clean and user-friendly interface, which makes it easy for users to buy and sell digital assets.\\n\\nVisit our website to see our platform's key features and functionality in action. Our website showcases the ease of use of our platform, how to earn experience points, how to lend and borrow assets, and how to buy and sell digital assets.\\n\\nOur Online Game Assets Custody and Trading Platform is ready to change the digital asset trading world using blockchain, tokenization, and NFT technologies. Contact us if you have any questions or want to learn more about our platform. Join us on this exciting journey and be a part of the new era of digital asset trading!\""
   ]
  },
  {
   "cell_type": "code",
   "execution_count": 5,
   "metadata": {},
   "outputs": [],
   "source": [
    "engine = pyttsx3.init()\n",
    "voices = engine.getProperty('voices')\n",
    "engine.setProperty('voice', voices[1].id)  # Select the female voice\n",
    "engine.setProperty('rate', 160)  # Adjust the speaking rate (default is 200)\n",
    "engine.say(script_str)\n",
    "engine.runAndWait()"
   ]
  },
  {
   "cell_type": "code",
   "execution_count": null,
   "metadata": {},
   "outputs": [],
   "source": [
    "engine = pyttsx3.init()\n",
    "engine.say(text)\n",
    "engine.runAndWait()"
   ]
  },
  {
   "cell_type": "code",
   "execution_count": null,
   "metadata": {},
   "outputs": [],
   "source": [
    "\"\"\" RATE\"\"\"\n",
    "rate = engine.getProperty('rate')   # getting details of current speaking rate\n",
    "print (rate)                        #printing current voice rate\n",
    "engine.setProperty('rate', 125)     # setting up new voice rate\n",
    "\n",
    "\n",
    "\"\"\"VOLUME\"\"\"\n",
    "volume = engine.getProperty('volume')   #getting to know current volume level (min=0 and max=1)\n",
    "print (volume)                          #printing current volume level\n",
    "engine.setProperty('volume',1.0)    # setting up volume level  between 0 and 1\n",
    "\n",
    "\"\"\"VOICE\"\"\"\n",
    "voices = engine.getProperty('voices')       #getting details of current voice\n",
    "#engine.setProperty('voice', voices[0].id)  #changing index, changes voices. o for male\n",
    "engine.setProperty('voice', voices[1].id)   #changing index, changes voices. 1 for female\n",
    "\n",
    "engine.say(\"Hello World!\")\n",
    "engine.say('My current speaking rate is ' + str(rate))\n",
    "engine.runAndWait()\n",
    "engine.stop()\n",
    "\n",
    "\"\"\"Saving Voice to a file\"\"\"\n",
    "# On linux make sure that 'espeak' and 'ffmpeg' are installed\n",
    "engine.save_to_file('Hello World', 'test.mp3')\n",
    "engine.runAndWait()"
   ]
  },
  {
   "attachments": {},
   "cell_type": "markdown",
   "metadata": {},
   "source": [
    "##"
   ]
  },
  {
   "cell_type": "code",
   "execution_count": null,
   "metadata": {},
   "outputs": [],
   "source": [
    "from gtts import gTTS\n",
    "from io import BytesIO\n",
    "from playsound import playsound\n",
    "\n",
    "# Set the parameters for the voice and tone\n",
    "language = 'en'\n",
    "voice = 'en-au'\n",
    "tone = 'excited'\n",
    "\n",
    "# Generate speech with the specified text, voice, and tone\n",
    "tts = gTTS(text='Hello world!', lang=language, tld='com.au', slow=False, lang_check=False, lang=voice)\n",
    "fp = BytesIO()\n",
    "tts.write_to_fp(fp)\n",
    "fp.seek(0)\n",
    "\n",
    "# Play the speech back\n",
    "playsound(fp)"
   ]
  },
  {
   "cell_type": "code",
   "execution_count": null,
   "metadata": {},
   "outputs": [],
   "source": [
    "pip install gTTS\n",
    "pip install playsound\n"
   ]
  },
  {
   "cell_type": "code",
   "execution_count": null,
   "metadata": {},
   "outputs": [],
   "source": []
  }
 ],
 "metadata": {
  "kernelspec": {
   "display_name": "base",
   "language": "python",
   "name": "python3"
  },
  "language_info": {
   "codemirror_mode": {
    "name": "ipython",
    "version": 3
   },
   "file_extension": ".py",
   "mimetype": "text/x-python",
   "name": "python",
   "nbconvert_exporter": "python",
   "pygments_lexer": "ipython3",
   "version": "3.9.13"
  },
  "orig_nbformat": 4
 },
 "nbformat": 4,
 "nbformat_minor": 2
}
